{
 "cells": [
  {
   "cell_type": "code",
   "execution_count": 2,
   "metadata": {},
   "outputs": [],
   "source": [
    "import numpy as np\n",
    "import pandas as pd\n",
    "import sklearn as sklearn\n",
    "import matplotlib.pyplot as plt\n",
    "import seaborn as sns\n",
    "import re"
   ]
  },
  {
   "cell_type": "code",
   "execution_count": 4,
   "metadata": {},
   "outputs": [
    {
     "data": {
      "text/html": [
       "<div>\n",
       "<style scoped>\n",
       "    .dataframe tbody tr th:only-of-type {\n",
       "        vertical-align: middle;\n",
       "    }\n",
       "\n",
       "    .dataframe tbody tr th {\n",
       "        vertical-align: top;\n",
       "    }\n",
       "\n",
       "    .dataframe thead th {\n",
       "        text-align: right;\n",
       "    }\n",
       "</style>\n",
       "<table border=\"1\" class=\"dataframe\">\n",
       "  <thead>\n",
       "    <tr style=\"text-align: right;\">\n",
       "      <th></th>\n",
       "      <th>Record ID</th>\n",
       "      <th>Incident Year</th>\n",
       "      <th>Incident Month</th>\n",
       "      <th>Incident Day</th>\n",
       "      <th>Operator ID</th>\n",
       "      <th>Operator</th>\n",
       "      <th>Aircraft</th>\n",
       "      <th>Aircraft Type</th>\n",
       "      <th>Aircraft Make</th>\n",
       "      <th>Aircraft Model</th>\n",
       "      <th>...</th>\n",
       "      <th>Fuselage Strike</th>\n",
       "      <th>Fuselage Damage</th>\n",
       "      <th>Landing Gear Strike</th>\n",
       "      <th>Landing Gear Damage</th>\n",
       "      <th>Tail Strike</th>\n",
       "      <th>Tail Damage</th>\n",
       "      <th>Lights Strike</th>\n",
       "      <th>Lights Damage</th>\n",
       "      <th>Other Strike</th>\n",
       "      <th>Other Damage</th>\n",
       "    </tr>\n",
       "  </thead>\n",
       "  <tbody>\n",
       "    <tr>\n",
       "      <td>0</td>\n",
       "      <td>127128</td>\n",
       "      <td>1990</td>\n",
       "      <td>1</td>\n",
       "      <td>1</td>\n",
       "      <td>DAL</td>\n",
       "      <td>DELTA AIR LINES</td>\n",
       "      <td>B-757-200</td>\n",
       "      <td>A</td>\n",
       "      <td>148</td>\n",
       "      <td>26</td>\n",
       "      <td>...</td>\n",
       "      <td>0</td>\n",
       "      <td>0</td>\n",
       "      <td>0</td>\n",
       "      <td>0</td>\n",
       "      <td>1</td>\n",
       "      <td>1</td>\n",
       "      <td>0</td>\n",
       "      <td>0</td>\n",
       "      <td>0</td>\n",
       "      <td>0</td>\n",
       "    </tr>\n",
       "    <tr>\n",
       "      <td>1</td>\n",
       "      <td>129779</td>\n",
       "      <td>1990</td>\n",
       "      <td>1</td>\n",
       "      <td>1</td>\n",
       "      <td>HAL</td>\n",
       "      <td>HAWAIIAN AIR</td>\n",
       "      <td>DC-9</td>\n",
       "      <td>A</td>\n",
       "      <td>583</td>\n",
       "      <td>90</td>\n",
       "      <td>...</td>\n",
       "      <td>0</td>\n",
       "      <td>0</td>\n",
       "      <td>0</td>\n",
       "      <td>0</td>\n",
       "      <td>0</td>\n",
       "      <td>0</td>\n",
       "      <td>0</td>\n",
       "      <td>0</td>\n",
       "      <td>1</td>\n",
       "      <td>0</td>\n",
       "    </tr>\n",
       "    <tr>\n",
       "      <td>2</td>\n",
       "      <td>129780</td>\n",
       "      <td>1990</td>\n",
       "      <td>1</td>\n",
       "      <td>2</td>\n",
       "      <td>UNK</td>\n",
       "      <td>UNKNOWN</td>\n",
       "      <td>UNKNOWN</td>\n",
       "      <td>NaN</td>\n",
       "      <td>NaN</td>\n",
       "      <td>NaN</td>\n",
       "      <td>...</td>\n",
       "      <td>0</td>\n",
       "      <td>0</td>\n",
       "      <td>0</td>\n",
       "      <td>0</td>\n",
       "      <td>0</td>\n",
       "      <td>0</td>\n",
       "      <td>0</td>\n",
       "      <td>0</td>\n",
       "      <td>0</td>\n",
       "      <td>0</td>\n",
       "    </tr>\n",
       "    <tr>\n",
       "      <td>3</td>\n",
       "      <td>2258</td>\n",
       "      <td>1990</td>\n",
       "      <td>1</td>\n",
       "      <td>3</td>\n",
       "      <td>MIL</td>\n",
       "      <td>MILITARY</td>\n",
       "      <td>A-10A</td>\n",
       "      <td>A</td>\n",
       "      <td>345</td>\n",
       "      <td>NaN</td>\n",
       "      <td>...</td>\n",
       "      <td>0</td>\n",
       "      <td>0</td>\n",
       "      <td>0</td>\n",
       "      <td>0</td>\n",
       "      <td>0</td>\n",
       "      <td>0</td>\n",
       "      <td>0</td>\n",
       "      <td>0</td>\n",
       "      <td>0</td>\n",
       "      <td>0</td>\n",
       "    </tr>\n",
       "    <tr>\n",
       "      <td>4</td>\n",
       "      <td>2257</td>\n",
       "      <td>1990</td>\n",
       "      <td>1</td>\n",
       "      <td>3</td>\n",
       "      <td>MIL</td>\n",
       "      <td>MILITARY</td>\n",
       "      <td>F-16</td>\n",
       "      <td>A</td>\n",
       "      <td>561</td>\n",
       "      <td>NaN</td>\n",
       "      <td>...</td>\n",
       "      <td>0</td>\n",
       "      <td>0</td>\n",
       "      <td>0</td>\n",
       "      <td>0</td>\n",
       "      <td>0</td>\n",
       "      <td>0</td>\n",
       "      <td>0</td>\n",
       "      <td>0</td>\n",
       "      <td>0</td>\n",
       "      <td>0</td>\n",
       "    </tr>\n",
       "  </tbody>\n",
       "</table>\n",
       "<p>5 rows × 66 columns</p>\n",
       "</div>"
      ],
      "text/plain": [
       "   Record ID  Incident Year  Incident Month  Incident Day Operator ID  \\\n",
       "0     127128           1990               1             1         DAL   \n",
       "1     129779           1990               1             1         HAL   \n",
       "2     129780           1990               1             2         UNK   \n",
       "3       2258           1990               1             3         MIL   \n",
       "4       2257           1990               1             3         MIL   \n",
       "\n",
       "          Operator   Aircraft Aircraft Type Aircraft Make Aircraft Model  ...  \\\n",
       "0  DELTA AIR LINES  B-757-200             A           148             26  ...   \n",
       "1     HAWAIIAN AIR       DC-9             A           583             90  ...   \n",
       "2          UNKNOWN    UNKNOWN           NaN           NaN            NaN  ...   \n",
       "3         MILITARY      A-10A             A           345            NaN  ...   \n",
       "4         MILITARY       F-16             A           561            NaN  ...   \n",
       "\n",
       "   Fuselage Strike  Fuselage Damage Landing Gear Strike  Landing Gear Damage  \\\n",
       "0                0                0                   0                    0   \n",
       "1                0                0                   0                    0   \n",
       "2                0                0                   0                    0   \n",
       "3                0                0                   0                    0   \n",
       "4                0                0                   0                    0   \n",
       "\n",
       "  Tail Strike Tail Damage  Lights Strike Lights Damage  Other Strike  \\\n",
       "0           1           1              0             0             0   \n",
       "1           0           0              0             0             1   \n",
       "2           0           0              0             0             0   \n",
       "3           0           0              0             0             0   \n",
       "4           0           0              0             0             0   \n",
       "\n",
       "  Other Damage  \n",
       "0            0  \n",
       "1            0  \n",
       "2            0  \n",
       "3            0  \n",
       "4            0  \n",
       "\n",
       "[5 rows x 66 columns]"
      ]
     },
     "execution_count": 4,
     "metadata": {},
     "output_type": "execute_result"
    }
   ],
   "source": [
    "dataset = pd.read_csv(r\"/Users/avishekbanerji/Desktop/database.csv\")\n",
    "dataset.head() "
   ]
  },
  {
   "cell_type": "code",
   "execution_count": 5,
   "metadata": {},
   "outputs": [
    {
     "data": {
      "text/plain": [
       "['Record ID',\n",
       " 'Incident Year',\n",
       " 'Incident Month',\n",
       " 'Incident Day',\n",
       " 'Operator ID',\n",
       " 'Operator',\n",
       " 'Aircraft',\n",
       " 'Aircraft Type',\n",
       " 'Aircraft Make',\n",
       " 'Aircraft Model',\n",
       " 'Aircraft Mass',\n",
       " 'Engine Make',\n",
       " 'Engine Model',\n",
       " 'Engines',\n",
       " 'Engine Type',\n",
       " 'Engine1 Position',\n",
       " 'Engine2 Position',\n",
       " 'Engine3 Position',\n",
       " 'Engine4 Position',\n",
       " 'Airport ID',\n",
       " 'Airport',\n",
       " 'State',\n",
       " 'FAA Region',\n",
       " 'Warning Issued',\n",
       " 'Flight Phase',\n",
       " 'Visibility',\n",
       " 'Precipitation',\n",
       " 'Height',\n",
       " 'Speed',\n",
       " 'Distance',\n",
       " 'Species ID',\n",
       " 'Species Name',\n",
       " 'Species Quantity',\n",
       " 'Flight Impact',\n",
       " 'Fatalities',\n",
       " 'Injuries',\n",
       " 'Aircraft Damage',\n",
       " 'Radome Strike',\n",
       " 'Radome Damage',\n",
       " 'Windshield Strike',\n",
       " 'Windshield Damage',\n",
       " 'Nose Strike',\n",
       " 'Nose Damage',\n",
       " 'Engine1 Strike',\n",
       " 'Engine1 Damage',\n",
       " 'Engine2 Strike',\n",
       " 'Engine2 Damage',\n",
       " 'Engine3 Strike',\n",
       " 'Engine3 Damage',\n",
       " 'Engine4 Strike',\n",
       " 'Engine4 Damage',\n",
       " 'Engine Ingested',\n",
       " 'Propeller Strike',\n",
       " 'Propeller Damage',\n",
       " 'Wing or Rotor Strike',\n",
       " 'Wing or Rotor Damage',\n",
       " 'Fuselage Strike',\n",
       " 'Fuselage Damage',\n",
       " 'Landing Gear Strike',\n",
       " 'Landing Gear Damage',\n",
       " 'Tail Strike',\n",
       " 'Tail Damage',\n",
       " 'Lights Strike',\n",
       " 'Lights Damage',\n",
       " 'Other Strike',\n",
       " 'Other Damage']"
      ]
     },
     "execution_count": 5,
     "metadata": {},
     "output_type": "execute_result"
    }
   ],
   "source": [
    "attributes=(list(dataset))\n",
    "attributes"
   ]
  },
  {
   "cell_type": "code",
   "execution_count": 6,
   "metadata": {},
   "outputs": [
    {
     "name": "stdout",
     "output_type": "stream",
     "text": [
      "UNKNOWN MEDIUM BIRD           38531\n",
      "UNKNOWN SMALL BIRD            32981\n",
      "MOURNING DOVE                  7653\n",
      "GULL                           6580\n",
      "UNKNOWN BIRD                   6400\n",
      "                              ...  \n",
      "PIPING PLOVER                     1\n",
      "CUCKOOS, ROADRUNNERS, ANIS        1\n",
      "RED-LEGGED PARTRIDGE              1\n",
      "TOWHEES                           1\n",
      "YUMA MYOTIS                       1\n",
      "Name: Species Name, Length: 715, dtype: int64\n"
     ]
    }
   ],
   "source": [
    "species = dataset[\"Species Name\"]\n",
    "species_count=species.value_counts()\n",
    "print(species_count)"
   ]
  },
  {
   "cell_type": "code",
   "execution_count": 7,
   "metadata": {},
   "outputs": [
    {
     "name": "stdout",
     "output_type": "stream",
     "text": [
      "MOURNING DOVE       7653\n",
      "GULL                6580\n",
      "KILLDEER            4562\n",
      "AMERICAN KESTREL    4476\n",
      "BARN SWALLOW        4215\n",
      "Name: Species Name, dtype: int64\n"
     ]
    }
   ],
   "source": [
    "top_known_species = [\"MOURNING DOVE\", \"GULL\",\"KILLDEER\", \"AMERICAN KESTREL\",\"BARN SWALLOW\"]\n",
    "top_known_species = species[species.isin(top_known_species)]\n",
    "print(top_known_species.value_counts())\n"
   ]
  },
  {
   "cell_type": "code",
   "execution_count": 8,
   "metadata": {},
   "outputs": [
    {
     "data": {
      "text/plain": [
       "(array([0, 1, 2, 3, 4]), <a list of 5 Text xticklabel objects>)"
      ]
     },
     "execution_count": 8,
     "metadata": {},
     "output_type": "execute_result"
    },
    {
     "data": {
      "image/png": "[encoded data removed]",
      "text/plain": [
       "<Figure size 432x288 with 1 Axes>"
      ]
     },
     "metadata": {
      "needs_background": "light"
     },
     "output_type": "display_data"
    }
   ],
   "source": [
    "sns.countplot(top_known_species)\n",
    "plt.title(\"Top Known Species That Impact with Aircraft\")\n",
    "plt.xticks(rotation='vertical')"
   ]
  },
  {
   "cell_type": "code",
   "execution_count": 9,
   "metadata": {},
   "outputs": [],
   "source": [
    "damage=[]\n",
    "strike=[]\n",
    "dam=\".*Damage$\"\n",
    "stri=\".*Strike$\"\n",
    "for i in attributes:\n",
    "    if (re.match(dam, i)):\n",
    "        damage.append(i)\n",
    "    elif (re.match(stri, i)):\n",
    "        strike.append(i)"
   ]
  },
  {
   "cell_type": "code",
   "execution_count": 10,
   "metadata": {},
   "outputs": [
    {
     "data": {
      "text/plain": [
       "['Aircraft Damage',\n",
       " 'Radome Damage',\n",
       " 'Windshield Damage',\n",
       " 'Nose Damage',\n",
       " 'Engine1 Damage',\n",
       " 'Engine2 Damage',\n",
       " 'Engine3 Damage',\n",
       " 'Engine4 Damage',\n",
       " 'Propeller Damage',\n",
       " 'Wing or Rotor Damage',\n",
       " 'Fuselage Damage',\n",
       " 'Landing Gear Damage',\n",
       " 'Tail Damage',\n",
       " 'Lights Damage',\n",
       " 'Other Damage']"
      ]
     },
     "execution_count": 10,
     "metadata": {},
     "output_type": "execute_result"
    }
   ],
   "source": [
    "damage"
   ]
  },
  {
   "cell_type": "code",
   "execution_count": 11,
   "metadata": {},
   "outputs": [
    {
     "data": {
      "text/plain": [
       "['Radome Damage',\n",
       " 'Windshield Damage',\n",
       " 'Nose Damage',\n",
       " 'Engine1 Damage',\n",
       " 'Engine2 Damage',\n",
       " 'Engine3 Damage',\n",
       " 'Engine4 Damage',\n",
       " 'Propeller Damage',\n",
       " 'Wing or Rotor Damage',\n",
       " 'Fuselage Damage',\n",
       " 'Landing Gear Damage',\n",
       " 'Tail Damage',\n",
       " 'Lights Damage',\n",
       " 'Other Damage']"
      ]
     },
     "execution_count": 11,
     "metadata": {},
     "output_type": "execute_result"
    }
   ],
   "source": [
    "damage=damage[1:]\n",
    "damage"
   ]
  },
  {
   "cell_type": "code",
   "execution_count": 12,
   "metadata": {},
   "outputs": [],
   "source": [
    "damage_y=[]\n",
    "strike_y=[]\n",
    "for i in strike:\n",
    "    strike_y.append(dataset[i].sum())\n",
    "\n",
    "for i in damage:\n",
    "    damage_y.append(dataset[i].sum())"
   ]
  },
  {
   "cell_type": "code",
   "execution_count": 13,
   "metadata": {},
   "outputs": [
    {
     "data": {
      "text/plain": [
       "([0, 1, 2, 3, 4, 5, 6, 7, 8, 9, 10, 11, 12, 13],\n",
       " <a list of 14 Text xticklabel objects>)"
      ]
     },
     "execution_count": 13,
     "metadata": {},
     "output_type": "execute_result"
    },
    {
     "data": {
      "image/png": "[encoded data removed]",
      "text/plain": [
       "<Figure size 432x288 with 1 Axes>"
      ]
     },
     "metadata": {
      "needs_background": "light"
     },
     "output_type": "display_data"
    }
   ],
   "source": [
    "plt.bar(damage,damage_y)\n",
    "plt.title(\"Parts Damaged in the Aircraft\")\n",
    "plt.xticks(rotation='vertical')"
   ]
  },
  {
   "cell_type": "code",
   "execution_count": 14,
   "metadata": {},
   "outputs": [
    {
     "data": {
      "text/plain": [
       "([0, 1, 2, 3, 4, 5, 6, 7, 8, 9, 10, 11, 12, 13],\n",
       " <a list of 14 Text xticklabel objects>)"
      ]
     },
     "execution_count": 14,
     "metadata": {},
     "output_type": "execute_result"
    },
    {
     "data": {
      "image/png": "[encoded data removed]",
      "text/plain": [
       "<Figure size 432x288 with 1 Axes>"
      ]
     },
     "metadata": {
      "needs_background": "light"
     },
     "output_type": "display_data"
    }
   ],
   "source": [
    "plt.bar(strike,strike_y,color='purple')\n",
    "plt.title(\"Parts Striked in the Aircraft\")\n",
    "plt.xticks(rotation='vertical')"
   ]
  },
  {
   "cell_type": "code",
   "execution_count": 15,
   "metadata": {},
   "outputs": [],
   "source": [
    "damage_per_strike=[]\n",
    "parts=[]\n",
    "for i in range(0,len(strike)):\n",
    "    damage_per_strike.append(damage_y[i]/strike_y[i])\n",
    "    parts.append(strike[i][:-7])"
   ]
  },
  {
   "cell_type": "code",
   "execution_count": 16,
   "metadata": {},
   "outputs": [
    {
     "data": {
      "text/plain": [
       "([0, 1, 2, 3, 4, 5, 6, 7, 8, 9, 10, 11, 12, 13],\n",
       " <a list of 14 Text xticklabel objects>)"
      ]
     },
     "execution_count": 16,
     "metadata": {},
     "output_type": "execute_result"
    },
    {
     "data": {
      "image/png": "[encoded data removed]",
      "text/plain": [
       "<Figure size 432x288 with 1 Axes>"
      ]
     },
     "metadata": {
      "needs_background": "light"
     },
     "output_type": "display_data"
    }
   ],
   "source": [
    "plt.bar(parts,damage_per_strike,color='red')\n",
    "plt.title(\"Parts Damage per strike in the Aircraft\")\n",
    "plt.xticks(rotation='vertical')"
   ]
  },
  {
   "cell_type": "code",
   "execution_count": null,
   "metadata": {},
   "outputs": [],
   "source": []
  },
  {
   "cell_type": "code",
   "execution_count": null,
   "metadata": {},
   "outputs": [],
   "source": []
  }
 ],
 "metadata": {
  "kernelspec": {
   "display_name": "Python 3",
   "language": "python",
   "name": "python3"
  },
  "language_info": {
   "codemirror_mode": {
    "name": "ipython",
    "version": 3
   },
   "file_extension": ".py",
   "mimetype": "text/x-python",
   "name": "python",
   "nbconvert_exporter": "python",
   "pygments_lexer": "ipython3",
   "version": "3.7.4"
  }
 },
 "nbformat": 4,
 "nbformat_minor": 2
}
